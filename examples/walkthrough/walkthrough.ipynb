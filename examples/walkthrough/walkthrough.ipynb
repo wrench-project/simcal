{
 "cells": [
  {
   "cell_type": "markdown",
   "id": "1c21f438-d95c-4a26-bb96-12290478d96e",
   "metadata": {},
   "source": [
    "# Simcal\n",
    "Simcal is a simulation calibration framework designed to calibrate arbitrary simulators.  The simulator itself is defined outside of simcal and can be anything.  For the purposes of this walkthrough, we will assume the simulator is some other program that can be invoked from the command line and outputs a value.\n",
    "\n",
    "Simcal provides a Simulation wrapper that must be implemented to call this simulator.  This wrapper must return a scalar value representing the loss of the calibration.  It is helpful (but not required) for the loss to be implemented as it own seperate function.\n",
    "\n",
    "The sklearn.metrics package provides many useful error functions that can be used as the loss function.  For this example, we will use `mean_squared_error`."
   ]
  },
  {
   "cell_type": "code",
   "execution_count": 1,
   "id": "c64742a7-c74c-4e80-91fe-a856eb13bfed",
   "metadata": {},
   "outputs": [],
   "source": [
    "from sklearn.metrics import mean_squared_error as sklearn_mean_squared_error\n",
    "import simcal as sc"
   ]
  },
  {
   "cell_type": "markdown",
   "id": "97657039-7d17-4e9f-afd0-c04f756f5967",
   "metadata": {},
   "source": [
    "# Ground-Truth data\n",
    "Simcal has no expectation for your ground-truth data.  It doesn't even assume it exists (some simulators can use some out-of-band source to quantify accuracy).\n",
    "\n",
    "However, for most simulators, ground-truth data is needed for calibration.  We recommend this data be stored in a well-structured directory of multiple scenarios and contain both the required arguments for the simulator to run a scenario and the expected output of a scenario.\n",
    "\n",
    "Example Dir:\n",
    "* ground_truth\n",
    "\t+ single_machine\n",
    "\t\t- 10_tasks_0_data.json\n",
    "\t\t- 10_tasks_10_data.json\n",
    "\t\t- 10_tasks_100_data.json\n",
    "\t\t- 100_tasks_0_data.json\n",
    "\t\t- 100_tasks_10_data.json\n",
    "\t\t- 100_tasks_100_data.json\n",
    "\t+ two_machine\n",
    "\t\t- ...\n",
    "\t+ four_machine\n",
    "\t\t- ...\n",
    "\n",
    "Example 10_tasks_100_data.json:\n",
    "```json\n",
    "{\n",
    "\t\"makespan\":10s,\n",
    "\t\"tasks\":10,\n",
    "\t\"data\":100\n",
    "}\n",
    "```\n",
    "This organized data is then loaded into a well structured data structure\n",
    "\n",
    "Example:\n",
    "```json\n",
    "{\n",
    "\t\"single_machine\":{\n",
    "\t\t\"10_tasks_0_data\":{\n",
    "\t\t\t\"makespan\":10s,\n",
    "\t\t\t\"tasks\":10,\n",
    "\t\t\t\"data\":0\n",
    "\t\t},...\n",
    "\t},\n",
    "\t\"two_machine\":{\n",
    "\t\t...\n",
    "\t},\n",
    "\t\"four_machine\":{\n",
    "\t\t...\n",
    "\t}\n",
    "}\n",
    "```\n",
    "we assume `ground_truth_loader(path)` produces such a structure\n"
   ]
  },
  {
   "cell_type": "code",
   "execution_count": null,
   "id": "05fd2857-199e-4624-9aec-03e6ba71e70a",
   "metadata": {},
   "outputs": [],
   "source": [
    "ground_truth=ground_truth_loader(\"path/to/ground_truth\")"
   ]
  },
  {
   "cell_type": "markdown",
   "id": "7a89fd39-2f70-4855-940e-f4d4c1236735",
   "metadata": {},
   "source": [
    "# Simulator\n",
    "Simcal provides an abstract `Simulator` class to extend for creating the wrapper.  The `run` method of this wrapper must have the signature  `run(self, env, args)` and return a scalar value.  The ``__call__`` method is reserved.  Otherwise the implementation of this class is up to the user.  For this example, we will define a simulator that takes the path to the simulator, a reference ground-truth dataset, and a functor to evaluate the loss.  The `run` function will run all scenarios given in `ground_truth`, and then compute the loss over them.  The `run` function will be provided, in the `args` parameter, with a dictionary of formated parameter values to use.\n"
   ]
  },
  {
   "cell_type": "code",
   "execution_count": null,
   "id": "2cce9815-829c-400e-8b87-598b94d0cdea",
   "metadata": {},
   "outputs": [],
   "source": [
    "class ExampleSimulator(sc.Simulator):\n",
    "    def __init__(self, simulator_path, ground_truth, loss):\n",
    "        self.simulator_path = simulator_path\n",
    "        self.ground_truth = ground_truth\n",
    "        self.loss = loss\n",
    "    # Assume args is\n",
    "    # {\n",
    "    #     \"network_speed\":ParameterValue,\n",
    "    #     \"cpu_speed\":ParameterValue\n",
    "    # }\n",
    "    def run(self, env, args):\n",
    "        result=[]\n",
    "        makespans=[]\n",
    "        for machine_count in self.ground_truth:\n",
    "            for scenario in self.ground_truth[machine_count]:\n",
    "                gtdata = self.ground_truth[machine_count][scenario]\n",
    "                std_out, std_err, exit_code = env.bash(self.simulator_path,\n",
    "                                                       \"--tasks\",gtdata[\"tasks\"],\n",
    "                                                       \"--data\",gtdata[\"data\"], \n",
    "                                                       \"--network\",args[\"network_speed\"],\n",
    "                                                       \"--cpu\",args[\"cpu_speed\"])\n",
    "                if std_err: # This if is not required, but is helpful for debugging simulators, beware of printing large outputs\n",
    "                    print(gtdata, std_out, std_err, exit_code)\n",
    "                    raise Exception(f\"Error running simulator\") # any normal exception raised in the run function will cause the calibration process to stop\n",
    "                resutls.add(float(std_dout))\n",
    "                makespans.add(parse_united_float(gtdata[\"makespan\"]))\n",
    "        return self.loss(makespan,results)\n",
    "\n",
    "simulator = ExampleSimulator(\"path/to/simulator\",ground_truth,sklearn_mean_squared_error) \n",
    "# the simulator may be manually called\n",
    "loss = simulator({\"network_speed\":\"100Mbps\", \"cpu_speed\":\"1Gflops\"})"
   ]
  },
  {
   "cell_type": "markdown",
   "id": "7f5f7f50-f222-4df4-9d79-eb26c325d7f9",
   "metadata": {},
   "source": [
    "`env` provides an environment unique to each invocation of `run`.  It provides many useful features such as temporary file and directory handling, as well as a bash function.  If your simulator requires input files for some of its arguments `open_file=env.tmp_file()` will create a temporary file to write it to, and if your simulator produces functions as outputs `env.tmp_dir()` will make a temporary folder for `env.bash` to use as a cwd."
   ]
  },
  {
   "cell_type": "markdown",
   "id": "6a7a2bb5-e8fd-4c39-b901-20560fa381ea",
   "metadata": {},
   "source": [
    "# Parameter Values\n",
    "Parameter Values are given to the `run` function in various formats depending on how they are configured.  Most often, they are provided as numeric values with a format in a `sc.parameter.Value`.  These support arithmetic options as if they were numbers, but will automatically attach a unit when cast to a string, jsonified, or passed to `env.bash`.  They can be used to access the base parameter distribution they originate from, if required, allowing them to carry additional metadata."
   ]
  },
  {
   "cell_type": "code",
   "execution_count": 5,
   "id": "67b4cdac-298d-44c9-b7dd-f3abfe77f9a2",
   "metadata": {},
   "outputs": [
    {
     "name": "stdout",
     "output_type": "stream",
     "text": [
      "10.0Mbps\n",
      "100.0Mbps\n",
      "100.0\n",
      "5.0Mbps\n"
     ]
    }
   ],
   "source": [
    "parameter=sc.parameter.Value(\"%.1fMbps\",10.0,None)# For demonstration purposes, we manually create a parameter value with a unit of Mbps, value 10, and no base parameter\n",
    "print(parameter) # 10.0Mbps\n",
    "\n",
    "parameter *= 10\n",
    "print(parameter) # 100.0Mbps\n",
    "\n",
    "print(float(parameter)) # 100.0\n",
    "\n",
    "parameter.value = 5\n",
    "print(parameter) # 5.0Mbps"
   ]
  },
  {
   "cell_type": "markdown",
   "id": "785333fb-e2cd-4991-adb9-515dd2c642c9",
   "metadata": {},
   "source": [
    "# Calibrator\n",
    "Simcal provides a standard calibration wrapper for various optimization algorithms to implement.\n",
    "How this wrapper is instantiated is up to the algorithm implementer, but each has a \n",
    "`calibrate(self, simulator, early_stopping_loss = None, iterations = None, timelimit = None, coordinator = None)` method to compute a calibration and `add_param(self, parameter_name, parameter)` method to add parameters.\n",
    "\n",
    "Currently Simcal provides implementations for Gradient descent, 4 Skopt baysian optimization implementations, random search, grid search, genetic algorithms, and a do-nothing \"debug\"."
   ]
  },
  {
   "cell_type": "code",
   "execution_count": 2,
   "id": "a9639356-b32d-4141-bf3f-805f969f5a74",
   "metadata": {},
   "outputs": [],
   "source": [
    "random_seed=0 # Optimizers that use randomness can be seeded for reproducible results\n",
    "calibrator = sc.calibrators.Debug()\n",
    "calibrator = sc.calibrators.Grid()\n",
    "calibrator = sc.calibrators.Random(seed=random_seed)\n",
    "calibrator = sc.calibrators.ScikitOptimizer(1000,\"GP\",seed=random_seed) # Skopt takes a number of random samples to use before starting its Bayesian optimizer\n",
    "calibrator = sc.calibrators.ScikitOptimizer(1000,\"GBRT\",seed=random_seed)\n",
    "calibrator = sc.calibrators.ScikitOptimizer(1000,\"ET\",seed=random_seed)\n",
    "calibrator = sc.calibrators.ScikitOptimizer(1000,\"RF\",seed=random_seed)\n",
    "calibrator = sc.calibrators.GeneticAlgorithm(100, # Generation size\n",
    "                                             10,  # Number of Breeders in each generation\n",
    "                                             .50, # gene cross over rate\n",
    "                                             .01, # gene mutation rate\n",
    "                                             fitness_noise = None, # noise to be added to fitness, may be function (epsilon)\n",
    "                                             annealing = None, # should annealing be done.  can be True for default anealing or a function (delta)\n",
    "                                             seed=random_seed, \n",
    "                                             elites=0) # Number of elite members of each generation to preserve into next generation\n",
    "calibrator = sc.calibrators.GradientDescent(0.1, # initial step size for calculating gradient \n",
    "                                            1,   # stop exploring if loss does not improve by at least this much each iteration\n",
    "                                           early_reject_loss = None) # if the random start has a worse loss than this parameter, dont bother searching it\n",
    "# the optimal value for Epsilon and delta depend on the loss and parameter ranges"
   ]
  },
  {
   "cell_type": "markdown",
   "id": "0aeb720b-f838-4981-9a20-029e8adff169",
   "metadata": {},
   "source": [
    "# Parameters\n",
    "To calibrate the parameters of a simulator, the parameters to calibrate and the range of values for each must be specified to the calibrator.\n",
    "The `add_param(name,parameter)` function allows for adding a parameter to a calibrator.  Each parameter must have a unique name.\n",
    "\n",
    "Simcal supports several types of parameters\n",
    "\n",
    "* `Categorical`\n",
    "Categorical parameters are sets of strings with no order.\n",
    "\n",
    "* `Ordered`\n",
    "Abstract Parameter with an order.\n",
    "\n",
    "* `Ordinal`\n",
    "Ordinal parameters are discrete sets of numeric values with order.\n",
    "\n",
    "* `Linear`\n",
    "Linear parameters are a range of values with a linear distribution, may be integer or float.\n",
    "\n",
    "* `Exponential`\n",
    "Linear parameters are a range of values with a exponential distribution, may be integer or float.\n",
    "\n",
    "All Parameters allow for metadata to better inform the simulator how to use them.\n",
    "\n",
    "All Parameters support a formatting string to add a unit (see Parameter Value). This can be set with `.format(\"formating string\")`\n",
    "\n",
    "All ordered parameters are derived from an internal range between 0 and 1 so that a step of 0.01 is \"the same\" for all parameters.  If you wish for one parameter to have a different step size, this internal range may be changed by setting `parameter.range_start` and `parameter.range_end`"
   ]
  },
  {
   "cell_type": "code",
   "execution_count": 11,
   "id": "e2685b48-5e01-4c31-b712-c879af9cd88f",
   "metadata": {},
   "outputs": [
    {
     "name": "stdout",
     "output_type": "stream",
     "text": [
      "5.00\n",
      "5\n",
      "32.00\n",
      "32\n",
      "15.00\n",
      "15\n",
      "32768.00\n",
      "32768\n"
     ]
    }
   ],
   "source": [
    "categorical = sc.parameter.Categorical([\"Option 1\",\"Option A\",\"Option Alpha\"]) \n",
    "ordinal = sc.parameter.Ordinal([1,5,10])\n",
    "linear = sc.parameter.Linear(0, 20).format(\"%.2f\") # float range from 0-20 \n",
    "linear_integer = sc.parameter.Linear(0, 20, integer=True) # integer range from 0-20 \n",
    "exponential = sc.parameter.Exponential(0, 20).format(\"%.2f\") # float exponential range from 1-1048576 \n",
    "exponential_integer = sc.parameter.Exponential(0, 20, integer=True) # integer exponential range from 1-1048576 \n",
    "\n",
    "print(linear.from_normalized(0.25)) # 5.00\n",
    "print(linear_integer.from_normalized(0.25)) # 5 \n",
    "print(exponential.from_normalized(0.25)) # 32.00\n",
    "print(exponential_integer.from_normalized(0.25)) #32\n",
    "\n",
    "print(linear.from_normalized(0.75)) # 15.00\n",
    "print(linear_integer.from_normalized(0.75)) # 15\n",
    "print(exponential.from_normalized(0.75)) # 32768.00\n",
    "print(exponential_integer.from_normalized(0.75)) #32768"
   ]
  },
  {
   "cell_type": "code",
   "execution_count": null,
   "id": "769cb4a2-d9af-4478-a092-60a98bc4c6ff",
   "metadata": {},
   "outputs": [],
   "source": [
    "calibrator.add_param(\"network_speed\",sc.parameter.Exponential(0, 20).format(\"%.2fbps\")) \n",
    "calibrator.add_param(\"cpu_speed\",sc.parameter.Exponential(0, 20).format(\"%.2fflops\")) "
   ]
  },
  {
   "cell_type": "markdown",
   "id": "e3b67674-c7e9-4e49-ad1d-199db64e9860",
   "metadata": {},
   "source": [
    "Once the calibration algorithm has been instantiated, the simulator created, and the parameters added, then the calibrator can be ran using the `calibrate` method.  This method will return the best calibration found and the corresponding loss value.  Additionally, a history of best calibrations is tracked and stored in the `calibrator.timeline` array. "
   ]
  },
  {
   "cell_type": "code",
   "execution_count": null,
   "id": "98ed290b-0b99-4d2f-951f-97cf396dea49",
   "metadata": {},
   "outputs": [],
   "source": [
    "calibration, loss = calibrator.calibrate(simulator, timelimit=120) # Calibrate the simulator for 2 minutes\n",
    "calibrator.timeline\n"
   ]
  },
  {
   "cell_type": "markdown",
   "id": "8f0abb8e-9e02-440d-a3fb-6d422f30aa6b",
   "metadata": {},
   "source": [
    "# Coordinators\n",
    "To improve calibraton performance, Simcal also provides a Coordinator wrapper for parallel and distributed calibration.  Currently only the trivial default coordinator and a ThreadPool have been implemented.  This allows for optimization algorithms to use multiple CPU cores on the same machine.  A Coordinator can be passed to `calibrator.calibrate` if desired.\n"
   ]
  },
  {
   "cell_type": "code",
   "execution_count": null,
   "id": "3b40a7d7-f19a-43cc-b0ac-add49286575f",
   "metadata": {},
   "outputs": [],
   "source": [
    "coordinator = sc.coordinators.ThreadPool(pool_size=4)\n",
    "\n",
    "calibration, loss = calibrator.calibrate(simulator, timelimit=120, coordinator=coordinator) # Calibrate the simulator for 2 minutes using 4 cores"
   ]
  }
 ],
 "metadata": {
  "kernelspec": {
   "display_name": "Python 3 (ipykernel)",
   "language": "python",
   "name": "python3"
  },
  "language_info": {
   "codemirror_mode": {
    "name": "ipython",
    "version": 3
   },
   "file_extension": ".py",
   "mimetype": "text/x-python",
   "name": "python",
   "nbconvert_exporter": "python",
   "pygments_lexer": "ipython3",
   "version": "3.12.11"
  }
 },
 "nbformat": 4,
 "nbformat_minor": 5
}
