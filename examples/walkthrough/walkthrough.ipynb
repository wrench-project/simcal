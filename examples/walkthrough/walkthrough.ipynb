{
 "cells": [
  {
   "cell_type": "markdown",
   "id": "1c21f438-d95c-4a26-bb96-12290478d96e",
   "metadata": {},
   "source": [
    "# Simcal\n",
    "Simcal is a simulation calibration framework designed to calibrate arbitrary simulators.  The simulator itself is defined outside of simcal and can be anything.  For the purposes of this walkthrough, we will assume the simulator is some other program that can be invoked from the command line and outputs a value.\n",
    "\n",
    "Simcal provides a Simulation wrapper that must be implemented to call this simulator.  This wrapper must return a scalar value representing the loss of the calibration.  It is helpful (but not required) for this to also be a function.\n",
    "\n",
    "The sklearn.metrics package provides many useful error functions that can be used.  For this example, we will use mean_squared_error"
   ]
  },
  {
   "cell_type": "code",
   "execution_count": 1,
   "id": "c64742a7-c74c-4e80-91fe-a856eb13bfed",
   "metadata": {},
   "outputs": [],
   "source": [
    "from sklearn.metrics import mean_squared_error as sklearn_mean_squared_error\n",
    "import simcal as sc"
   ]
  },
  {
   "cell_type": "markdown",
   "id": "97657039-7d17-4e9f-afd0-c04f756f5967",
   "metadata": {},
   "source": [
    "# Ground-Truth data\n",
    "Simcal has no expectation for your ground-truth data.  It doesnt even assume it exists.  Some simulators can use another source for their accuracy.\n",
    "\n",
    "However, for our simulators, ground-truth data is needed for calibration.  We recommend this data is stored in a well structured directory of multiple scenarios and contain both the required arguments for the simulator a scenario to run and the expected output of a scenario.\n",
    "\n",
    "Example Dir:\n",
    "* ground_truth\n",
    "\t+ single_machine\n",
    "\t\t- 10_tasks_0_data.json\n",
    "\t\t- 10_tasks_10_data.json\n",
    "\t\t- 10_tasks_100_data.json\n",
    "\t\t- 100_tasks_0_data.json\n",
    "\t\t- 100_tasks_10_data.json\n",
    "\t\t- 100_tasks_100_data.json\n",
    "\t+ two_machine\n",
    "\t\t- ...\n",
    "\t+ four_machine\n",
    "\t\t- ...\n",
    "\n",
    "Example 10_tasks_100_data.json:\n",
    "```json\n",
    "{\n",
    "\t\"makespan\":10s,\n",
    "\t\"tasks\":10,\n",
    "\t\"data\":100\n",
    "}\n",
    "```\n",
    "This organized data is then loaded into a well structured data structure\n",
    "\n",
    "Example:\n",
    "```json\n",
    "{\n",
    "\t\"single_machine\":{\n",
    "\t\t\"10_tasks_0_data\":{\n",
    "\t\t\t\"makespan\":10s,\n",
    "\t\t\t\"tasks\":10,\n",
    "\t\t\t\"data\":0\n",
    "\t\t},...\n",
    "\t},\n",
    "\t\"two_machine\":{\n",
    "\t\t...\n",
    "\t},\n",
    "\t\"four_machine\":{\n",
    "\t\t...\n",
    "\t}\n",
    "}\n",
    "```\n",
    "we assume `ground_truth_loader(path)` produces such a structure\n"
   ]
  },
  {
   "cell_type": "code",
   "execution_count": null,
   "id": "05fd2857-199e-4624-9aec-03e6ba71e70a",
   "metadata": {},
   "outputs": [],
   "source": [
    "ground_truth=ground_truth_loader(\"ground/truth/path\")"
   ]
  },
  {
   "cell_type": "markdown",
   "id": "7a89fd39-2f70-4855-940e-f4d4c1236735",
   "metadata": {},
   "source": [
    "# Simulator\n",
    "Simcal provides an abstract `Simulator` class to extend for creating the wrapper.  The `run` method of this wrapper must have the signature  `run(self, env, args)` and return a scalar value.  The ``__call__`` method is reserved.  Otherwise the implementation of this class is up to the user.  For this example, we will define a simulator that takes the path to the simulator, a reference ground-truth dataset, and a functor to evaluate the loss.  The `run` function will run all scenarios given in the ground_truth, and then compute the loss over them.  The `run` function will be provided with a dictionary of formated parameter values to use in the `args` parameter.\n"
   ]
  },
  {
   "cell_type": "code",
   "execution_count": null,
   "id": "2cce9815-829c-400e-8b87-598b94d0cdea",
   "metadata": {},
   "outputs": [],
   "source": [
    "class ExampleSimulator(sc.Simulator):\n",
    "    def __init__(self, simulator_path, ground_truth, loss):\n",
    "        self.simulator_path = simulator_path\n",
    "        self.ground_truth = ground_truth\n",
    "        self.loss = loss\n",
    "    # Assume args is\n",
    "    # {\n",
    "    #     \"network_speed\":ParameterValue,\n",
    "    #     \"cpu_speed\":ParameterValue\n",
    "    # }\n",
    "    def run(self, env, args):\n",
    "        result=[]\n",
    "        makespans=[]\n",
    "        for machine_count in self.ground_truth:\n",
    "            for scenario in self.ground_truth[machine_count]:\n",
    "                gtdata = self.ground_truth[machine_count][scenario]\n",
    "                std_out, std_err, exit_code = env.bash(self.simulator_path,\n",
    "                                                       \"--tasks\",gtdata[\"tasks\"],\n",
    "                                                       \"--data\",gtdata[\"data\"], \n",
    "                                                       \"--network\",args[\"network_speed\"],\n",
    "                                                       \"--cpu\",args[\"cpu_speed\"])\n",
    "                if std_err: # This if is not required, but is helpful for debugging simulators, be ware of printing large outputs\n",
    "                    print(gtdata, std_out, std_err, exit_code)\n",
    "                    raise Exception(f\"Error running simulator\") # any normal exception raised in the run function will cause the calibration process to stop\n",
    "                resutls.add(float(std_dout))\n",
    "                makespans.add(parse_united_float(gtdata[\"makespan\"]))\n",
    "        return self.loss(makespan,results)\n",
    "        "
   ]
  },
  {
   "cell_type": "markdown",
   "id": "7f5f7f50-f222-4df4-9d79-eb26c325d7f9",
   "metadata": {},
   "source": [
    "`env` provides an environment unique to each invocation of `run`.  It provides many useful features such as temporary file and directory handling, as well as a bash function.  If your simulator requires input files for some of its arguments `open_file=env.tmp_file()` will create a temporary file to write it to, and if your simulator produces functions as outputs `env.tmp_dir()` will make a temporary folder for `env.bash` to use as a cwd."
   ]
  },
  {
   "cell_type": "markdown",
   "id": "6a7a2bb5-e8fd-4c39-b901-20560fa381ea",
   "metadata": {},
   "source": [
    "# Parameter Values\n",
    "Parameter Values are given to the `run` function in various formats depending on how they are configured.  Most often, they are provided as numeric values with a format in a `sc.parameter.Value`.  These support arithmetic options as if they are numbers, but will automatically attach a unit when cast to a string, jsonified, or passed to `env.bash`.  They can be used to access the base parameter distribution they originate from if required allowing them to carry additional metadata."
   ]
  },
  {
   "cell_type": "code",
   "execution_count": 5,
   "id": "67b4cdac-298d-44c9-b7dd-f3abfe77f9a2",
   "metadata": {},
   "outputs": [
    {
     "name": "stdout",
     "output_type": "stream",
     "text": [
      "10.0Mbps\n",
      "100.0Mbps\n",
      "100.0\n",
      "5.0Mbps\n"
     ]
    }
   ],
   "source": [
    "parameter=sc.parameter.Value(\"%.1fMbps\",10.0,None)# For demonstration purposes, we manually create a parameter value with a unit of Mbps, value 10, and no base parameter\n",
    "print(parameter) # 10.0Mbps\n",
    "\n",
    "parameter *= 10\n",
    "print(parameter) # 100.0Mbps\n",
    "\n",
    "print(float(parameter)) # 100.0\n",
    "\n",
    "parameter.value = 5\n",
    "print(parameter) # 5.0Mbps"
   ]
  },
  {
   "cell_type": "markdown",
   "id": "785333fb-e2cd-4991-adb9-515dd2c642c9",
   "metadata": {},
   "source": [
    "# Calibrator\n",
    "Simcal provides a standard calibration wrapper"
   ]
  }
 ],
 "metadata": {
  "kernelspec": {
   "display_name": "Python 3 (ipykernel)",
   "language": "python",
   "name": "python3"
  },
  "language_info": {
   "codemirror_mode": {
    "name": "ipython",
    "version": 3
   },
   "file_extension": ".py",
   "mimetype": "text/x-python",
   "name": "python",
   "nbconvert_exporter": "python",
   "pygments_lexer": "ipython3",
   "version": "3.12.2"
  }
 },
 "nbformat": 4,
 "nbformat_minor": 5
}
